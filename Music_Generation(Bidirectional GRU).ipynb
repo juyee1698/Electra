{
  "cells": [
    {
      "cell_type": "markdown",
      "metadata": {
        "id": "view-in-github",
        "colab_type": "text"
      },
      "source": [
        "<a href=\"https://colab.research.google.com/github/juyee1698/Electra/blob/main/Music_Generation(Bidirectional%20GRU).ipynb\" target=\"_parent\"><img src=\"https://colab.research.google.com/assets/colab-badge.svg\" alt=\"Open In Colab\"/></a>"
      ]
    },
    {
      "cell_type": "markdown",
      "metadata": {
        "id": "NTZOCM2Y3peI"
      },
      "source": [
        "# Importing libraries"
      ]
    },
    {
      "cell_type": "code",
      "execution_count": null,
      "metadata": {
        "id": "Omj-S1tRY_f9"
      },
      "outputs": [],
      "source": [
        "import pandas as pd\n",
        "import numpy as np\n",
        "import matplotlib.pyplot as plt\n",
        "import os\n",
        "\n",
        "import glob\n",
        "import pickle\n",
        "\n",
        "import tensorflow as tf\n",
        "\n",
        "from music21 import converter, instrument, stream, note, chord\n",
        "\n",
        "#Run version 2.1.6\n",
        "from keras.models import Sequential\n",
        "from keras.layers import Dense, Dropout, LSTM, Activation, Bidirectional, Flatten\n",
        "from keras import utils\n",
        "from keras.callbacks import ModelCheckpoint\n",
        "from keras_self_attention import SeqSelfAttention\n",
        "from keras.layers import GlobalMaxPooling1D, MaxPooling1D\n",
        "from tensorflow.keras.utils import to_categorical\n",
        "from keras.layers import BatchNormalization as BatchNorm\n"
      ]
    },
    {
      "cell_type": "code",
      "execution_count": null,
      "metadata": {
        "colab": {
          "base_uri": "https://localhost:8080/"
        },
        "id": "KzF3nzJ4fcdQ",
        "outputId": "033ba1c7-4218-4724-924d-4cc1018ead15"
      },
      "outputs": [
        {
          "output_type": "stream",
          "name": "stdout",
          "text": [
            "Mounted at /content/drive\n"
          ]
        }
      ],
      "source": [
        "from google.colab import drive\n",
        "drive.mount('/content/drive')"
      ]
    },
    {
      "cell_type": "code",
      "execution_count": null,
      "metadata": {
        "id": "kj7DAyokDKYv"
      },
      "outputs": [],
      "source": [
        "!pip install keras_self_attention"
      ]
    },
    {
      "cell_type": "markdown",
      "metadata": {
        "id": "UflLmi_sEENz"
      },
      "source": [
        "# Data Preparation & Model training"
      ]
    },
    {
      "cell_type": "code",
      "execution_count": null,
      "metadata": {
        "colab": {
          "base_uri": "https://localhost:8080/",
          "height": 35
        },
        "id": "hGFoMKKSTNrO",
        "outputId": "5d4e742d-eb99-48a8-ae0b-3d9f6439579d"
      },
      "outputs": [
        {
          "data": {
            "application/vnd.google.colaboratory.intrinsic+json": {
              "type": "string"
            },
            "text/plain": [
              "'/content/drive/MyDrive/Classical_tracks'"
            ]
          },
          "execution_count": 10,
          "metadata": {},
          "output_type": "execute_result"
        }
      ],
      "source": [
        "%pwd"
      ]
    },
    {
      "cell_type": "code",
      "execution_count": null,
      "metadata": {
        "id": "mFzlcKprTrCO"
      },
      "outputs": [],
      "source": [
        "#Specify the working directory which contains MIDI tracks\n",
        "\n",
        "%cd /content/drive/MyDrive/Input_songs/"
      ]
    },
    {
      "cell_type": "markdown",
      "metadata": {
        "id": "8uiZ-zwMEboj"
      },
      "source": [
        "## Build the notes and chords object for each instrument"
      ]
    },
    {
      "cell_type": "code",
      "execution_count": null,
      "metadata": {
        "id": "BHFXsr8PZbeJ"
      },
      "outputs": [],
      "source": [
        "def get_notes():\n",
        "    notes = []\n",
        "    durations = []\n",
        "\n",
        "    sum=0\n",
        "    count_tracks=0\n",
        "\n",
        "    for file in glob.glob(\"*.mid\"):\n",
        "        midi = converter.parse(file)\n",
        "        count_tracks+=1\n",
        "        print(\"Parsing %s\" % file)\n",
        "\n",
        "        notes_to_parse = None\n",
        "        tmp_notes = []\n",
        "\n",
        "        try: # file has instrument parts\n",
        "            s2 = instrument.partitionByInstrument(midi) #Currently we are only working with piano\n",
        "            for part in s2:\n",
        "              if isinstance(part.getInstrument(), instrument.Piano) and str(part)!=\"<music21.stream.Part Piano right>\" and str(part)!=\"<music21.stream.Part Piano left>\":\n",
        "                print(\"True\")\n",
        "                notes_to_parse = part.recurse()\n",
        "\n",
        "            #notes_to_parse = s2.parts[0].recurse()\n",
        "        except: # file has notes in a flat structure\n",
        "            notes_to_parse = midi.flat.notes\n",
        "            #print(len(notes_to_parse))\n",
        "\n",
        "        try:\n",
        "          for element in notes_to_parse:\n",
        "\n",
        "              if isinstance(element, note.Note):\n",
        "                  #print(element, element.offset, element.pitch)\n",
        "                  notes.append(str(element.pitch) + \" \" +  str(element.quarterLength))\n",
        "                  tmp_notes.append(str(element.pitch) + \" \" +  str(element.quarterLength))\n",
        "              elif isinstance(element, chord.Chord):\n",
        "                  #print(element, element.normalOrder, element.quarterLength)\n",
        "                  notes.append('.'.join(str(n) for n in element.normalOrder) + \" \" + str(element.quarterLength))\n",
        "                  tmp_notes.append('.'.join(str(n) for n in element.normalOrder) + \" \" + str(element.quarterLength))\n",
        "              elif isinstance(element,  note.Rest):\n",
        "                  #print(element)\n",
        "                  notes.append(str(element.name)  + \" \" + str(element.quarterLength))\n",
        "                  tmp_notes.append(str(element.name)  + \" \" + str(element.quarterLength))\n",
        "\n",
        "          print(len(tmp_notes))\n",
        "          print(len(set(tmp_notes)))\n",
        "          sum+=len(set(tmp_notes[0:500]))\n",
        "        except:\n",
        "          continue\n",
        "\n",
        "    #This is used to determine diversity in the track to determine sequence length\n",
        "    print(\"Avg no of notes/chords in first 500 sequences is \",(sum/count_tracks))\n",
        "\n",
        "    return notes"
      ]
    },
    {
      "cell_type": "code",
      "execution_count": null,
      "metadata": {
        "id": "GCdTJYTTTvS3"
      },
      "outputs": [],
      "source": [
        "notes = get_notes()\n",
        "n_vocab = len(set(notes))"
      ]
    },
    {
      "cell_type": "code",
      "execution_count": null,
      "metadata": {
        "id": "yLDkAgHj6TL3"
      },
      "outputs": [],
      "source": [
        "print(notes)"
      ]
    },
    {
      "cell_type": "code",
      "execution_count": null,
      "metadata": {
        "id": "nX4wQoLblJ4C"
      },
      "outputs": [],
      "source": [
        "print(len(notes))"
      ]
    },
    {
      "cell_type": "code",
      "execution_count": null,
      "metadata": {
        "id": "cM5jO2BEhRaa"
      },
      "outputs": [],
      "source": [
        "n_vocab"
      ]
    },
    {
      "cell_type": "markdown",
      "metadata": {
        "id": "PTKm2XhcEp5T"
      },
      "source": [
        "## Prepare input and output sequences for the model to learn"
      ]
    },
    {
      "cell_type": "code",
      "execution_count": null,
      "metadata": {
        "id": "pdDq9_yxZfNA"
      },
      "outputs": [],
      "source": [
        "def prepare_sequences(notes, n_vocab):\n",
        "    \"\"\" Prepare the sequences used by the Neural Network \"\"\"\n",
        "    sequence_length = 64 #Track will be divided into sequences of 100 notes/chords for the model to learn\n",
        "\n",
        "    # get all pitch names\n",
        "    pitchnames = sorted(set(item for item in notes))\n",
        "\n",
        "    print(pitchnames)\n",
        "\n",
        "    # create a dictionary to map pitches to integers\n",
        "    note_to_int = dict((note, number) for number, note in enumerate(pitchnames))\n",
        "\n",
        "\n",
        "    print(note_to_int)\n",
        "    network_input = []\n",
        "    network_output = []\n",
        "\n",
        "    # create input sequences and the corresponding outputs\n",
        "    for i in range(0, len(notes) - sequence_length, 1):\n",
        "        sequence_in = notes[i:i + sequence_length]\n",
        "        sequence_out = notes[i + sequence_length]\n",
        "        network_input.append([note_to_int[char] for char in sequence_in])\n",
        "        network_output.append(note_to_int[sequence_out])\n",
        "        #print(\"Network Output \",network_output)\n",
        "\n",
        "    n_patterns = len(network_input)\n",
        "\n",
        "    # reshape the input into a format compatible with LSTM layers\n",
        "    network_input = np.reshape(network_input, (n_patterns, sequence_length, 1))\n",
        "\n",
        "\n",
        "    # normalize input\n",
        "    network_input = network_input / float(n_vocab)\n",
        "\n",
        "    #print(\"Normalized input:\",network_input)\n",
        "\n",
        "    network_output = to_categorical(network_output)\n",
        "    #print(network_input.shape[1],network_input.shape[2])\n",
        "    #print(network_output.shape)\n",
        "\n",
        "    return (network_input, network_output)"
      ]
    },
    {
      "cell_type": "code",
      "execution_count": null,
      "metadata": {
        "id": "qcFhkks9Zuwi"
      },
      "outputs": [],
      "source": [
        "prepare_sequences(notes, n_vocab)"
      ]
    },
    {
      "cell_type": "markdown",
      "metadata": {
        "id": "tJRvlY8UGGOr"
      },
      "source": [
        "## Build and configure the ML model"
      ]
    },
    {
      "cell_type": "code",
      "execution_count": null,
      "metadata": {
        "id": "Ez5SLj23ZY5D"
      },
      "outputs": [],
      "source": [
        "def train_network(notes, n_vocab):\n",
        "    \"\"\" Train a Neural Network to generate music \"\"\"\n",
        "    network_input, network_output = prepare_sequences(notes, n_vocab)\n",
        "\n",
        "    model = create_network(network_input, n_vocab)\n",
        "\n",
        "    history = train(model, network_input, network_output)\n",
        "\n",
        "    return history"
      ]
    },
    {
      "cell_type": "code",
      "execution_count": null,
      "metadata": {
        "id": "K8vC_YRgk9Ti"
      },
      "outputs": [],
      "source": [
        "def create_network(network_input, n_vocab):\n",
        "    \"\"\" create the structure of the neural network \"\"\"\n",
        "    model = Sequential(name=\"GRU-Model\") # Model\n",
        "    # Input Layer\n",
        "    model.add(Input(shape=(network_input.shape[1],network_input.shape[2]), name='Input-Layer'))\n",
        "    # Build the Encoder Layer\n",
        "    model.add(Bidirectional(GRU(units=64, activation='tanh', recurrent_activation='sigmoid', return_sequences=True),\n",
        "                            name='Hidden-GRU-Encoder-Layer'))\n",
        "    # Build the Decoder Layer\n",
        "    model.add(Bidirectional(GRU(units=64, activation='tanh', recurrent_activation='sigmoid'), name='Hidden-GRU-Decoder-Layer'))\n",
        "    #model.add(TimeDistributed(Dense(units=n_vocab, activation='softmax'), name='Output-Layer')) # Output Layer, Linear(x) = x\n",
        "    model.add(BatchNormalization())\n",
        "    #model.add(Dropout(0.5))\n",
        "    model.add(Dense(n_vocab, activation='softmax'))\n",
        "    #model.add(Activation('softmax'))\n",
        "\n",
        "    # Compile the model\n",
        "    model.compile(optimizer='adam', # default='rmsprop', an algorithm to be used in backpropagation\n",
        "                  loss='categorical_crossentropy', # Loss function to be optimized. A string (name of loss function), or a tf.keras.losses.Loss instance.\n",
        "                )\n",
        "\n",
        "    print(model.summary())\n",
        "\n",
        "    return model"
      ]
    },
    {
      "cell_type": "code",
      "execution_count": null,
      "metadata": {
        "id": "tICdOx42Zl71"
      },
      "outputs": [],
      "source": [
        "# def create_network(network_input, n_vocab):\n",
        "#     \"\"\" create the structure of the neural network \"\"\"\n",
        "#     model = Sequential()\n",
        "#     model.add(Bidirectional(LSTM(512,\n",
        "#         input_shape=(network_input.shape[1], network_input.shape[2]), #n_time_steps, n_features?\n",
        "#         return_sequences=True)))\n",
        "#     model.add(SeqSelfAttention(attention_activation='sigmoid'))\n",
        "#     model.add(BatchNorm())\n",
        "#     model.add(Dropout(0.5))\n",
        "\n",
        "#     # model.add(Bidirectional(LSTM(512,\n",
        "#     #     return_sequences=True, recurrent_dropout=0.2)))\n",
        "#     # #model.add(LSTM(512,return_sequences=True))\n",
        "#     # model.add(BatchNorm())\n",
        "#     # model.add(Dropout(0.3))\n",
        "\n",
        "#     #model.add(Flatten()) #Supposedly needed to fix stuff before dense layer\n",
        "#     model.add(GlobalMaxPooling1D())\n",
        "#     model.add(Dense(n_vocab))\n",
        "#     model.add(Activation('softmax'))\n",
        "#     learning_rate = 0.005\n",
        "#     optimizer = tf.keras.optimizers.Adam(learning_rate=learning_rate)\n",
        "#     model.compile(loss='categorical_crossentropy', optimizer=optimizer)\n",
        "#     #model.compile(loss=tf.keras.losses.SparseCategoricalCrossentropy(\n",
        "#     #     from_logits=True), optimizer=optimizer)\n",
        "\n",
        "\n",
        "#     #model.summary()\n",
        "\n",
        "#     return model\n",
        "\n",
        "def train(model, network_input, network_output):\n",
        "    \"\"\" train the neural network \"\"\"\n",
        "    loss = list()\n",
        "    filepath = os.path.abspath(\"/content/weights-2GRULayer-final.hdf5\")\n",
        "    checkpoint = ModelCheckpoint(\n",
        "        filepath,\n",
        "        period=10, #Every 10 epochs\n",
        "        monitor='loss',\n",
        "        verbose=1,\n",
        "        patience=5,\n",
        "        save_weights_only=True,\n",
        "        restore_best_weights=True,\n",
        "        mode='min'\n",
        "    )\n",
        "    callbacks_list = [checkpoint]\n",
        "\n",
        "    history = model.fit(network_input, network_output, epochs=100, batch_size=64, callbacks=callbacks_list)\n",
        "    return history"
      ]
    },
    {
      "cell_type": "markdown",
      "metadata": {
        "id": "RANKUIUWGQuu"
      },
      "source": [
        "## Train the Model"
      ]
    },
    {
      "cell_type": "code",
      "execution_count": null,
      "metadata": {
        "id": "g6F8gmm7aMXS"
      },
      "outputs": [],
      "source": [
        "network_input, network_output = prepare_sequences(notes, n_vocab)\n",
        "\n",
        "model = create_network_add_weights(network_input, n_vocab)\n",
        "train(model, network_input, network_output)"
      ]
    },
    {
      "cell_type": "code",
      "execution_count": null,
      "metadata": {
        "colab": {
          "background_save": true
        },
        "id": "OnOD9rYwZrpW"
      },
      "outputs": [],
      "source": [
        "#train\n",
        "model_history = train_network(notes, n_vocab)"
      ]
    },
    {
      "cell_type": "code",
      "execution_count": null,
      "metadata": {
        "colab": {
          "base_uri": "https://localhost:8080/",
          "height": 467
        },
        "id": "u6CzpAPQ7-0T",
        "outputId": "4695caeb-e33e-42c1-ea7b-1947e15a09aa"
      },
      "outputs": [
        {
          "data": {
            "image/png": "[encoded data removed]",
            "text/plain": [
              "<Figure size 800x500 with 1 Axes>"
            ]
          },
          "metadata": {
            "image/png": {
              "height": 450,
              "width": 671
            }
          },
          "output_type": "display_data"
        }
      ],
      "source": [
        "import pandas as pd\n",
        "pd.DataFrame(model_history.history).plot(figsize=(8, 5))\n",
        "plt.grid(True)\n",
        "\n",
        "plt.title(\"keras learning curves\")\n",
        "plt.show()"
      ]
    },
    {
      "cell_type": "markdown",
      "metadata": {
        "id": "CgBqjqxnGUSn"
      },
      "source": [
        "# Generate output sequence"
      ]
    },
    {
      "cell_type": "code",
      "execution_count": null,
      "metadata": {
        "id": "Ej-b79CEBKwL"
      },
      "outputs": [],
      "source": [
        "def generate():\n",
        "    \"\"\" Generate a piano midi file \"\"\"\n",
        "    #load the notes used to train the model\n",
        "    # with open('data/notes', 'rb') as filepath:\n",
        "    #     notes = pickle.load(filepath)\n",
        "\n",
        "    # Get all pitch names\n",
        "    pitchnames = sorted(set(item for item in notes))\n",
        "    # Get all pitch names\n",
        "    n_vocab = len(set(notes))\n",
        "\n",
        "    network_input, normalized_input = prepare_sequences_output(notes, pitchnames, n_vocab)\n",
        "    model = create_network_add_weights(normalized_input, n_vocab)\n",
        "    prediction_output = generate_notes(model, network_input, pitchnames, n_vocab)\n",
        "    create_midi(prediction_output)"
      ]
    },
    {
      "cell_type": "code",
      "execution_count": null,
      "metadata": {
        "id": "tgKLAse3BNwT"
      },
      "outputs": [],
      "source": [
        "def prepare_sequences_output(notes, pitchnames, n_vocab):\n",
        "    \"\"\" Prepare the sequences used by the Neural Network \"\"\"\n",
        "    # map between notes and integers and back\n",
        "    note_to_int = dict((note, number) for number, note in enumerate(pitchnames))\n",
        "\n",
        "    sequence_length = 64\n",
        "    network_input = []\n",
        "    output = []\n",
        "    for i in range(0, len(notes) - sequence_length, 1):\n",
        "        sequence_in = notes[i:i + sequence_length]\n",
        "        sequence_out = notes[i + sequence_length]\n",
        "        network_input.append([note_to_int[char] for char in sequence_in])\n",
        "        output.append(note_to_int[sequence_out])\n",
        "\n",
        "    n_patterns = len(network_input)\n",
        "\n",
        "    # reshape the input into a format compatible with LSTM layers\n",
        "    normalized_input = np.reshape(network_input, (n_patterns, sequence_length, 1))\n",
        "    # normalize input\n",
        "    normalized_input = normalized_input / float(n_vocab)\n",
        "\n",
        "    return (network_input, normalized_input)"
      ]
    },
    {
      "cell_type": "code",
      "execution_count": null,
      "metadata": {
        "id": "oGme3rdZBSVv"
      },
      "outputs": [],
      "source": [
        "def create_network_add_weights(network_input, n_vocab):\n",
        "    \"\"\" create the structure of the neural network \"\"\"\n",
        "\n",
        "    #Build the same architecture as previously designed to load the weights\n",
        "    model = Sequential()\n",
        "\n",
        "    # Input Layer\n",
        "    model.add(Input(shape=(network_input.shape[1],network_input.shape[2]), name='Input-Layer'))\n",
        "    # Build the Encoder Layer\n",
        "    model.add(Bidirectional(GRU(units=64, activation='tanh', recurrent_activation='sigmoid', return_sequences=True),\n",
        "                            name='Hidden-GRU-Encoder-Layer'))\n",
        "    # Build the Decoder Layer\n",
        "    model.add(Bidirectional(GRU(units=64, activation='tanh', recurrent_activation='sigmoid'), name='Hidden-GRU-Decoder-Layer'))\n",
        "    model.add(BatchNormalization())\n",
        "    model.add(Dense(n_vocab, activation='softmax'))\n",
        "\n",
        "    # model.add(Bidirectional(LSTM(512,return_sequences=True),input_shape=(network_input.shape[1], network_input.shape[2]))) #n_time_steps, n_features? Needed input_shape in first layer, which is Bid not LSTM\n",
        "    # model.add(SeqSelfAttention(attention_activation='sigmoid'))\n",
        "    # model.add(BatchNorm())\n",
        "    # model.add(Dropout(0.3))\n",
        "\n",
        "    # #model.add(LSTM(512,return_sequences=True))\n",
        "    # #model.add(Dropout(0.3))\n",
        "\n",
        "    # #model.add(Flatten()) #Supposedly needed to fix stuff before dense layer\n",
        "    # model.add(GlobalMaxPooling1D())\n",
        "    # model.add(Dense(n_vocab))\n",
        "    # model.add(Activation('softmax'))\n",
        "    # model.compile(loss='categorical_crossentropy', optimizer='rmsprop')\n",
        "\n",
        "    # Load the weights to each node\n",
        "    model.load_weights('/content/weights-2GRULayer-final.hdf5')\n",
        "\n",
        "    return model\n"
      ]
    },
    {
      "cell_type": "markdown",
      "metadata": {
        "id": "uDbVMx-oGqt2"
      },
      "source": [
        "Model uses its weights to predict the next note in the sequence based on the previous sequences"
      ]
    },
    {
      "cell_type": "code",
      "execution_count": null,
      "metadata": {
        "id": "ug1oFz4ABaDr"
      },
      "outputs": [],
      "source": [
        "def generate_notes(model, network_input, pitchnames, n_vocab):\n",
        "    \"\"\" Generate notes from the neural network based on a sequence of notes \"\"\"\n",
        "    # pick a random sequence from the input as a starting point for the prediction\n",
        "    start = np.random.randint(0, len(network_input)-1)\n",
        "\n",
        "    int_to_note = dict((number, note) for number, note in enumerate(pitchnames))\n",
        "\n",
        "    pattern = network_input[start]\n",
        "    prediction_output = []\n",
        "\n",
        "    # generate 250 notes\n",
        "    for note_index in range(250):\n",
        "        prediction_input = np.reshape(pattern, (1, len(pattern), 1))\n",
        "        prediction_input = prediction_input / float(n_vocab)\n",
        "\n",
        "        prediction = model.predict(prediction_input, verbose=0)\n",
        "\n",
        "        index = np.argmax(prediction)\n",
        "        result = int_to_note[index]\n",
        "        prediction_output.append(result)\n",
        "\n",
        "        pattern.append(index)\n",
        "        pattern = pattern[1:len(pattern)]\n",
        "\n",
        "    print(prediction_output)\n",
        "\n",
        "    return prediction_output"
      ]
    },
    {
      "cell_type": "markdown",
      "metadata": {
        "id": "SbXuu4rpG_T5"
      },
      "source": [
        "# Create MIDI file"
      ]
    },
    {
      "cell_type": "code",
      "execution_count": null,
      "metadata": {
        "id": "LvNMk1urBgZh"
      },
      "outputs": [],
      "source": [
        "def create_midi(prediction_output):\n",
        "    \"\"\" convert the output from the prediction to notes and create a midi file\n",
        "        from the notes \"\"\"\n",
        "    offset = 0\n",
        "    output_notes = []\n",
        "    output_notes.append(instrument.Piano())\n",
        "    # create note and chord objects based on the values generated by the model\n",
        "    for pattern in prediction_output:\n",
        "        pattern = pattern.split()\n",
        "        temp = pattern[0]\n",
        "        duration = pattern[1]\n",
        "        pattern = temp\n",
        "        # pattern is a chord\n",
        "        if ('.' in pattern) or pattern.isdigit():\n",
        "            notes_in_chord = pattern.split('.')\n",
        "            notes = []\n",
        "            for current_note in notes_in_chord:\n",
        "                new_note = note.Note(int(current_note))\n",
        "                new_note.storedInstrument = instrument.Piano()\n",
        "                notes.append(new_note)\n",
        "            new_chord = chord.Chord(notes)\n",
        "            new_chord.offset = offset\n",
        "            output_notes.append(new_chord)\n",
        "        # pattern is a rest\n",
        "        elif('rest' in pattern):\n",
        "            new_rest = note.Rest()\n",
        "            new_rest.offset = offset\n",
        "            new_rest.storedInstrument = instrument.Piano() #???\n",
        "            output_notes.append(new_rest)\n",
        "        # pattern is a note\n",
        "        else:\n",
        "            new_note = note.Note(pattern)\n",
        "            new_note.offset = offset\n",
        "            new_note.storedInstrument = instrument.Piano()\n",
        "            output_notes.append(new_note)\n",
        "        # increase offset each iteration so that notes do not stack\n",
        "        offset += 0.5\n",
        "\n",
        "    midi_stream = stream.Stream(output_notes)\n",
        "    midi_stream.write('midi', fp='/content/piano_comp_24102023.mid')\n",
        "\n",
        "#From: https://stackoverflow.com/questions/1806278/convert-fraction-to-float\n",
        "def convert_to_float(frac_str):\n",
        "    try:\n",
        "        return float(frac_str)\n",
        "    except ValueError:\n",
        "        num, denom = frac_str.split('/')\n",
        "        try:\n",
        "            leading, num = num.split(' ')\n",
        "            whole = float(leading)\n",
        "        except ValueError:\n",
        "            whole = 0\n",
        "        frac = float(num) / float(denom)\n",
        "        return whole - frac if whole < 0 else whole + frac"
      ]
    },
    {
      "cell_type": "code",
      "execution_count": null,
      "metadata": {
        "id": "jegeN-iABnOY"
      },
      "outputs": [],
      "source": [
        "generate()"
      ]
    },
    {
      "cell_type": "code",
      "execution_count": null,
      "metadata": {
        "id": "PjJem7RNg_Z3"
      },
      "outputs": [],
      "source": [
        "def plot_piano_roll(notes: pd.DataFrame, count: Optional[int] = None):\n",
        "  if count:\n",
        "    title = f'First {count} notes'\n",
        "  else:\n",
        "    title = f'Whole track'\n",
        "    count = len(notes['pitch'])\n",
        "  plt.figure(figsize=(20, 4))\n",
        "  plot_pitch = np.stack([notes['pitch'], notes['pitch']], axis=0)\n",
        "  plot_start_stop = np.stack([notes['start'], notes['end']], axis=0)\n",
        "  plt.plot(\n",
        "      plot_start_stop[:, :count], plot_pitch[:, :count], color=\"b\", marker=\".\")\n",
        "  plt.xlabel('Time [s]')\n",
        "  plt.ylabel('Pitch')\n",
        "  _ = plt.title(title)"
      ]
    }
  ],
  "metadata": {
    "accelerator": "GPU",
    "colab": {
      "provenance": [],
      "authorship_tag": "ABX9TyNKivNS1pS42+HqQXwfZ/03",
      "include_colab_link": true
    },
    "kernelspec": {
      "display_name": "Python 3",
      "name": "python3"
    }
  },
  "nbformat": 4,
  "nbformat_minor": 0
}